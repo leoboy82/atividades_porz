{
  "nbformat": 4,
  "nbformat_minor": 0,
  "metadata": {
    "colab": {
      "provenance": [],
      "authorship_tag": "ABX9TyNsl5OXZVyOE9Ijs4kHHF4W",
      "include_colab_link": true
    },
    "kernelspec": {
      "name": "python3",
      "display_name": "Python 3"
    },
    "language_info": {
      "name": "python"
    }
  },
  "cells": [
    {
      "cell_type": "markdown",
      "metadata": {
        "id": "view-in-github",
        "colab_type": "text"
      },
      "source": [
        "<a href=\"https://colab.research.google.com/github/leoboy82/atividades_porz/blob/main/Untitled13.ipynb\" target=\"_parent\"><img src=\"https://colab.research.google.com/assets/colab-badge.svg\" alt=\"Open In Colab\"/></a>"
      ]
    },
    {
      "cell_type": "code",
      "execution_count": 1,
      "metadata": {
        "colab": {
          "base_uri": "https://localhost:8080/"
        },
        "id": "4l3AvX21nOj2",
        "outputId": "3f2b83a6-037a-4962-f59d-3aba322daac9"
      },
      "outputs": [
        {
          "output_type": "stream",
          "name": "stdout",
          "text": [
            "Operações disponíveis:\n",
            "1: Soma\n",
            "2: Subtração\n",
            "3: Multiplicação\n",
            "4: Divisão\n",
            "0: Sair\n",
            "Escolha a operação: 4\n",
            "Digite o primeiro número: 7\n",
            "Digite o segundo número: 8\n",
            "Resultado: 0.875\n",
            "Operações disponíveis:\n",
            "1: Soma\n",
            "2: Subtração\n",
            "3: Multiplicação\n",
            "4: Divisão\n",
            "0: Sair\n",
            "Escolha a operação: 0\n",
            "Saindo...\n"
          ]
        }
      ],
      "source": [
        "def calculadora(num1, num2, operacao):\n",
        "    if operacao == 1:\n",
        "        return num1 + num2\n",
        "    elif operacao == 2:\n",
        "        return num1 - num2\n",
        "    elif operacao == 3:\n",
        "        return num1 * num2\n",
        "    elif operacao == 4:\n",
        "        if num2 != 0:\n",
        "            return num1 / num2\n",
        "        else:\n",
        "            print(\"Divisão por zero não é possível.\")\n",
        "            return 0\n",
        "    else:\n",
        "        print(\"Essa opção não existe.\")\n",
        "        return 0\n",
        "\n",
        "while True:\n",
        "    print(\"Operações disponíveis:\")\n",
        "    print(\"1: Soma\")\n",
        "    print(\"2: Subtração\")\n",
        "    print(\"3: Multiplicação\")\n",
        "    print(\"4: Divisão\")\n",
        "    print(\"0: Sair\")\n",
        "\n",
        "    operacao = int(input(\"Escolha a operação: \"))\n",
        "\n",
        "    if operacao == 0:\n",
        "        print(\"Saindo...\")\n",
        "        break\n",
        "\n",
        "    if operacao >= 1 and operacao <= 4:\n",
        "        num1 = float(input(\"Digite o primeiro número: \"))\n",
        "        num2 = float(input(\"Digite o segundo número: \"))\n",
        "\n",
        "        resultado = calculadora(num1, num2, operacao)\n",
        "        print(\"Resultado:\", resultado)\n",
        "    else:\n",
        "        print(\"Essa opção não existe.\")\n"
      ]
    },
    {
      "cell_type": "markdown",
      "source": [
        "# Nova seção"
      ],
      "metadata": {
        "id": "2Qzniql9o2em"
      }
    }
  ]
}