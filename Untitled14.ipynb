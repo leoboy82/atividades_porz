{
  "cells": [
    {
      "cell_type": "markdown",
      "metadata": {
        "id": "view-in-github",
        "colab_type": "text"
      },
      "source": [
        "<a href=\"https://colab.research.google.com/github/leoboy82/atividades_porz/blob/main/Untitled14.ipynb\" target=\"_parent\"><img src=\"https://colab.research.google.com/assets/colab-badge.svg\" alt=\"Open In Colab\"/></a>"
      ]
    },
    {
      "cell_type": "code",
      "execution_count": 2,
      "metadata": {
        "colab": {
          "base_uri": "https://localhost:8080/"
        },
        "id": "AAQ65Xaop7U9",
        "outputId": "4791ad07-9c9d-48fc-e40c-9f0b03a88713"
      },
      "outputs": [
        {
          "output_type": "stream",
          "name": "stdout",
          "text": [
            "Digite seu nome completo: kkk\n",
            "Digite o ano de nascimento (entre 1922 e 2021): 1555\n",
            "Ano fora do intervalo permitido. Tente novamente.\n",
            "Digite o ano de nascimento (entre 1922 e 2021): 0444\n",
            "Ano fora do intervalo permitido. Tente novamente.\n",
            "Digite o ano de nascimento (entre 1922 e 2021): 1777\n",
            "Ano fora do intervalo permitido. Tente novamente.\n",
            "Digite o ano de nascimento (entre 1922 e 2021): 6666\n",
            "Ano fora do intervalo permitido. Tente novamente.\n",
            "Digite o ano de nascimento (entre 1922 e 2021): 1982\n",
            "Nome: kkk\n",
            "Idade em 2022: 41 anos\n"
          ]
        }
      ],
      "source": [
        "import datetime\n",
        "\n",
        "def get_valid_year():\n",
        "    while True:\n",
        "        try:\n",
        "            year = int(input(\"Digite o ano de nascimento (entre 1922 e 2021): \"))\n",
        "            if 1922 <= year <= 2021:\n",
        "                return year\n",
        "            else:\n",
        "                print(\"Ano fora do intervalo permitido. Tente novamente.\")\n",
        "        except ValueError:\n",
        "            print(\"Entrada inválida. Digite um número válido.\")\n",
        "\n",
        "def main():\n",
        "    full_name = input(\"Digite seu nome completo: \")\n",
        "    birth_year = get_valid_year()\n",
        "\n",
        "    current_year = datetime.datetime.now().year\n",
        "    age = current_year - birth_year\n",
        "\n",
        "    print(f\"Nome: {full_name}\")\n",
        "    print(f\"Idade em 2022: {age} anos\")\n",
        "\n",
        "if __name__ == \"__main__\":\n",
        "  main()\n"
      ]
    }
  ],
  "metadata": {
    "colab": {
      "provenance": [],
      "authorship_tag": "ABX9TyMaPsE8Nu6CPBD1MHvtwbzE",
      "include_colab_link": true
    },
    "kernelspec": {
      "display_name": "Python 3",
      "name": "python3"
    },
    "language_info": {
      "name": "python"
    }
  },
  "nbformat": 4,
  "nbformat_minor": 0
}